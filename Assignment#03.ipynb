{
 "cells": [
  {
   "cell_type": "code",
   "execution_count": 9,
   "metadata": {},
   "outputs": [
    {
     "name": "stdout",
     "output_type": "stream",
     "text": [
      "Enter first value: 10\n",
      "Enter second value: 20\n",
      "Enter 1 for + :\n",
      "Enter 2 for - :\n",
      "Enter 3 for * :\n",
      "Enter 4 for / :\n",
      "Enter 5 for power: \n",
      "Enter your choice: 4\n",
      "\n",
      "Answer : 0.5\n"
     ]
    }
   ],
   "source": [
    "#1. Make a calculator using Python with addition , subtraction , multiplication ,division and power. \n",
    "\n",
    "answer = None\n",
    "number_1 = int(input(\"Enter first value: \"))\n",
    "number_2 = int(input(\"Enter second value: \"))\n",
    "\n",
    "print(\"Enter 1 for + :\")\n",
    "print(\"Enter 2 for - :\")\n",
    "print(\"Enter 3 for * :\")\n",
    "print(\"Enter 4 for / :\")\n",
    "print(\"Enter 5 for power: \")\n",
    "choice = int(input(\"Enter your choice: \"))\n",
    "\n",
    "if choice == 1:\n",
    "    answer = number_1+number_2\n",
    "elif choice == 2:\n",
    "    answer = number_1-number_2\n",
    "elif choice == 3:\n",
    "    answer = number_1*number_2\n",
    "elif choice == 4:\n",
    "    answer = number_1/number_2\n",
    "elif choice == 5:\n",
    "    answer = number_1**number_2\n",
    "    \n",
    "print(f\"\\nAnswer : {answer}\")"
   ]
  },
  {
   "cell_type": "code",
   "execution_count": 15,
   "metadata": {},
   "outputs": [
    {
     "name": "stdout",
     "output_type": "stream",
     "text": [
      "Numeric value found : 100\n"
     ]
    }
   ],
   "source": [
    "#2. Write a program to check if there is any numeric value in list using for loop\n",
    "\n",
    "List = [\"dastagir\", 100, \"10.5\",\"karachi\"]\n",
    "for value in List:\n",
    "    if type(value) == int or type(value) == float:\n",
    "        print(f\"Numeric value found : {value}\")\n",
    "        break"
   ]
  },
  {
   "cell_type": "code",
   "execution_count": 20,
   "metadata": {},
   "outputs": [
    {
     "name": "stdout",
     "output_type": "stream",
     "text": [
      "key added to the Dictionary\n"
     ]
    }
   ],
   "source": [
    "#3. Write a Python script to add a key to a dictionary\n",
    "\n",
    "dictionary = {}\n",
    "dictionary[1] = \"key added to the Dictionary\"\n",
    "\n",
    "print(dictionary[1])"
   ]
  },
  {
   "cell_type": "code",
   "execution_count": 25,
   "metadata": {},
   "outputs": [
    {
     "name": "stdout",
     "output_type": "stream",
     "text": [
      "Sum of all numbers = 374\n"
     ]
    }
   ],
   "source": [
    "#4. Write a Python program to sum all the numeric items in a dictionary\n",
    "\n",
    "result = 0\n",
    "dictionary = {1: 2 ,\n",
    "           2: \"dastagir\", \n",
    "           3: 300, \n",
    "           4:\"Not numerical\",\n",
    "           5: 72}\n",
    "\n",
    "for value in dictionary.values():\n",
    "    if type(value) == int or type(value) == float:\n",
    "        result = result + value        \n",
    "        \n",
    "print(f\"Sum of all numbers = {result}\")"
   ]
  },
  {
   "cell_type": "code",
   "execution_count": 29,
   "metadata": {},
   "outputs": [
    {
     "name": "stdout",
     "output_type": "stream",
     "text": [
      "Duplicated 2\n",
      "Duplicated 2\n",
      "Duplicated karachi\n",
      "Duplicated karachi\n"
     ]
    }
   ],
   "source": [
    "#5. Write a program to identify duplicate values from list\n",
    "\n",
    "List = [1, 2 , 2, 3, 4, 5, 6,\"karachi\",\"lahore\",\"karachi\"]\n",
    "for value in List:\n",
    "    if  List.count(value) > 1:\n",
    "        print(f\"Duplicated {value}\")"
   ]
  },
  {
   "cell_type": "code",
   "execution_count": 41,
   "metadata": {},
   "outputs": [
    {
     "name": "stdout",
     "output_type": "stream",
     "text": [
      "40 Already exists\n"
     ]
    }
   ],
   "source": [
    "# 6. Write a Python script to check if a given key already exists in a dictionary\n",
    "\n",
    "dictionary = { 200: \"key_1\",\n",
    "            30: \"key_2\",\n",
    "            40: \"key_3\"}\n",
    "\n",
    "given_key = 40\n",
    "\n",
    "\n",
    "for key in dictionary.keys():\n",
    "    if key == given_key:\n",
    "        print(f\"{given_key} Already exists\")"
   ]
  },
  {
   "cell_type": "code",
   "execution_count": null,
   "metadata": {},
   "outputs": [],
   "source": []
  }
 ],
 "metadata": {
  "kernelspec": {
   "display_name": "Python 3",
   "language": "python",
   "name": "python3"
  },
  "language_info": {
   "codemirror_mode": {
    "name": "ipython",
    "version": 3
   },
   "file_extension": ".py",
   "mimetype": "text/x-python",
   "name": "python",
   "nbconvert_exporter": "python",
   "pygments_lexer": "ipython3",
   "version": "3.7.4"
  }
 },
 "nbformat": 4,
 "nbformat_minor": 2
}
