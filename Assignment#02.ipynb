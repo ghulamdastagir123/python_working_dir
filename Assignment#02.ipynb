{
 "cells": [
  {
   "cell_type": "code",
   "execution_count": 1,
   "metadata": {},
   "outputs": [
    {
     "name": "stdout",
     "output_type": "stream",
     "text": [
      "Enter Your English Marks100\n",
      "Enter Your Urdu Marks70\n",
      "Enter Your Computer Marks60\n",
      "Enter Your Maths Marks40\n",
      "Enter your Physics Marks90\n",
      " TotalMarks = 360.00\n",
      "Percentage = 72.00\n",
      "A\n"
     ]
    }
   ],
   "source": [
    "# Question # 01\n",
    "\n",
    "English = int(input(\"Enter Your English Marks\"))\n",
    "Urdu = int(input(\"Enter Your Urdu Marks\"))\n",
    "Computer = int(input(\"Enter Your Computer Marks\"))\n",
    "Maths = int(input(\"Enter Your Maths Marks\")) \n",
    "Physics = int(input(\"Enter your Physics Marks\"))\n",
    "\n",
    "TotalMarks = English+Urdu+Computer+Maths+Physics \n",
    "Percentage = (TotalMarks /500) * 100 \n",
    "print(\" TotalMarks = %.2f\" %TotalMarks) \n",
    "print(\"Percentage = %.2f\" %Percentage)\n",
    "if Percentage >=80 and Percentage <=100 :\n",
    "    print(\"A+\")\n",
    "elif Percentage >=70 and Percentage < 80 :\n",
    "    print(\"A\")\n",
    "elif Percentage >= 60 and Percentage < 70 :\n",
    "    print(\"B\")\n",
    "elif Percentage >=50 and Percentage < 60 :\n",
    "    print(\"C\")\n",
    "elif Percentage >=40 and Percentage < 50 :\n",
    "    print(\"D\") \n",
    "elif Percentage >=33 and Percentage < 40 :\n",
    "    print(\"E\")   \n",
    "elif Percentage < 33 :\n",
    "    print(\"Fail\")    \n",
    "else :\n",
    "    print(\"you have given inapproperiate %\")\n"
   ]
  },
  {
   "cell_type": "code",
   "execution_count": 2,
   "metadata": {},
   "outputs": [
    {
     "name": "stdout",
     "output_type": "stream",
     "text": [
      "Enter a number: 77\n",
      "This is an odd number.\n"
     ]
    }
   ],
   "source": [
    "# Quesiton # 02\n",
    "number = int(input(\"Enter a number: \"))\n",
    "mod = number % 2\n",
    "if mod > 0:\n",
    "    print(\"This is an odd number.\")\n",
    "else:\n",
    "    print(\"This is an even number.\")\n"
   ]
  },
  {
   "cell_type": "code",
   "execution_count": 3,
   "metadata": {},
   "outputs": [
    {
     "name": "stdout",
     "output_type": "stream",
     "text": [
      "9\n"
     ]
    }
   ],
   "source": [
    "# Question # 03\n",
    "\n",
    "List=[100,200,64,10.6,89,62,70,80,10]\n",
    "print(len(List))\n"
   ]
  },
  {
   "cell_type": "code",
   "execution_count": 4,
   "metadata": {},
   "outputs": [
    {
     "name": "stdout",
     "output_type": "stream",
     "text": [
      "sum of List= 685.6\n"
     ]
    }
   ],
   "source": [
    "# Question # 04\n",
    "\n",
    "List=[100,200,64,10.6,89,62,70,80,10]\n",
    "x=len(List)\n",
    "sum=0\n",
    "for i in range (x):\n",
    "    sum=sum+List[i]\n",
    "print(\"sum of List=\",sum)\n"
   ]
  },
  {
   "cell_type": "code",
   "execution_count": 5,
   "metadata": {},
   "outputs": [
    {
     "name": "stdout",
     "output_type": "stream",
     "text": [
      "200\n"
     ]
    }
   ],
   "source": [
    "# Question # 05\n",
    "\n",
    "List=[100,200,64,10.6,89,62,70,80,10]\n",
    "print(max(List))\n"
   ]
  },
  {
   "cell_type": "code",
   "execution_count": 6,
   "metadata": {},
   "outputs": [
    {
     "name": "stdout",
     "output_type": "stream",
     "text": [
      "1\n",
      "1\n",
      "2\n",
      "3\n"
     ]
    }
   ],
   "source": [
    "# Question # 06 \n",
    "\n",
    "List=[1,1,2,3,5,8,13,21,34,55,89]\n",
    "x=len(List)\n",
    "for i in range(x):\n",
    "    if List[i]<5:\n",
    "        print(List[i])\n"
   ]
  },
  {
   "cell_type": "code",
   "execution_count": null,
   "metadata": {},
   "outputs": [],
   "source": []
  }
 ],
 "metadata": {
  "kernelspec": {
   "display_name": "Python 3",
   "language": "python",
   "name": "python3"
  },
  "language_info": {
   "codemirror_mode": {
    "name": "ipython",
    "version": 3
   },
   "file_extension": ".py",
   "mimetype": "text/x-python",
   "name": "python",
   "nbconvert_exporter": "python",
   "pygments_lexer": "ipython3",
   "version": "3.7.4"
  }
 },
 "nbformat": 4,
 "nbformat_minor": 2
}
