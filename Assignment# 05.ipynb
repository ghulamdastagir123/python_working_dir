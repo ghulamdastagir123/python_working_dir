{
 "cells": [
  {
   "cell_type": "code",
   "execution_count": 2,
   "metadata": {},
   "outputs": [
    {
     "name": "stdout",
     "output_type": "stream",
     "text": [
      "Enter Value to find Factorial:5\n",
      "Factorial of a 5 = 120\n"
     ]
    }
   ],
   "source": [
    "# Question No.1\n",
    "\n",
    "num= input(\"Enter Value to find Factorial:\");\n",
    "num=int(num);\n",
    "def Factorial(num):\n",
    "    f=1;\n",
    "    if num<1:\n",
    "        print(\"please enter value that is greater then one\");\n",
    "    elif num>=1:\n",
    "        for i in range(1,num+1):\n",
    "            f=f*i;\n",
    "        print(\"Factorial of a\", num , \"=\", f);\n",
    "    else:\n",
    "        print(\"Invalid Value Enter\");\n",
    "Factorial(num);"
   ]
  },
  {
   "cell_type": "code",
   "execution_count": 4,
   "metadata": {},
   "outputs": [
    {
     "name": "stdout",
     "output_type": "stream",
     "text": [
      "Enter a String: Pakistan Zindabad\n",
      "Number of Upper latters are: 2 and Lower Latters are: 14\n"
     ]
    }
   ],
   "source": [
    "# Question No.2\n",
    "\n",
    "def strLU(stringValues):\n",
    "    countUpper = 0\n",
    "    countLower = 0\n",
    "    for ch in stringValues:\n",
    "        if ch >= 'a' and 'z' >= ch:\n",
    "            countLower +=1\n",
    "        elif  ch >= 'A' and 'Z' >= ch:\n",
    "            countUpper +=1\n",
    "    print(\"Number of Upper latters are: {} and Lower Latters are: {}\".format(countUpper,countLower))\n",
    "\n",
    "strvariable = input(\"Enter a String: \")\n",
    "\n",
    "strLU(strvariable)"
   ]
  },
  {
   "cell_type": "code",
   "execution_count": 5,
   "metadata": {},
   "outputs": [
    {
     "name": "stdout",
     "output_type": "stream",
     "text": [
      "2 8 18 100 250 12 "
     ]
    }
   ],
   "source": [
    "# Question No.3\n",
    "\n",
    "def EvenNum(List):\n",
    "    for num in List:\n",
    "        if num % 2==0:  \n",
    "            print(num, end =\" \")\n",
    "numlist = [1,2,8,9,11,18,100,15,3,250,13,313,12]\n",
    "EvenNum(numlist)"
   ]
  },
  {
   "cell_type": "code",
   "execution_count": 9,
   "metadata": {},
   "outputs": [
    {
     "name": "stdout",
     "output_type": "stream",
     "text": [
      "Enter Palindrome: kayak\n",
      "This String is Palindrome\n"
     ]
    }
   ],
   "source": [
    "# Question No.4\n",
    "\n",
    "\n",
    "def checkPaln(string):\n",
    "    if(string==string[::-1]):\n",
    "        print(\"This String is Palindrome\")\n",
    "    else:\n",
    "        print(\"This String is Not Palindrome\")\n",
    "        \n",
    "\n",
    "string= input(\"Enter Palindrome: \")\n",
    "checkPaln(string)"
   ]
  },
  {
   "cell_type": "code",
   "execution_count": 13,
   "metadata": {},
   "outputs": [
    {
     "name": "stdout",
     "output_type": "stream",
     "text": [
      "Enter number to check it is prime or not: 10\n",
      "10  is not a prime\n"
     ]
    }
   ],
   "source": [
    "# Question No.5\n",
    "\n",
    "num = int(input(\"Enter number to check it is prime or not: \"));\n",
    "def checkPrime(number):\n",
    "    if number>1:\n",
    "        for i in range(2,number//2):\n",
    "            if(number % i)==0:\n",
    "                print(number, \" is not a prime\");\n",
    "                break;\n",
    "            else:\n",
    "                print(number, \"is a prime number \");\n",
    "    else:\n",
    "        print(number, \"is not a prime number\");\n",
    "\n",
    "checkPrime(num);"
   ]
  },
  {
   "cell_type": "code",
   "execution_count": 14,
   "metadata": {},
   "outputs": [
    {
     "name": "stdout",
     "output_type": "stream",
     "text": [
      "----Enter Item List and Enter bye for End----\n",
      "\n",
      "Enter item: rice\n",
      "Enter item: biscuits\n",
      "Enter item: milk\n",
      "Enter item: sugar\n",
      "Enter item: cofee\n",
      "Enter item: bye\n",
      "Ghulam Dastagir Purchase this item : rice\n",
      "Ghulam Dastagir Purchase this item : biscuits\n",
      "Ghulam Dastagir Purchase this item : milk\n",
      "Ghulam Dastagir Purchase this item : sugar\n",
      "Ghulam Dastagir Purchase this item : cofee\n"
     ]
    }
   ],
   "source": [
    "# Question No.6\n",
    "\n",
    "def marketlist(itemList,name):\n",
    "    for item in itemList:\n",
    "        print(name + \" Purchase this item : \"+item )\n",
    "\n",
    "itemList = []\n",
    "print(\"----Enter Item List and Enter bye for End----\\n\")\n",
    "while True:\n",
    "    item = input(\"Enter item: \")\n",
    "    if item == 'bye':\n",
    "        break;\n",
    "    itemList.append(item)\n",
    "marketlist(itemList,name=\"Ghulam Dastagir\")"
   ]
  },
  {
   "cell_type": "code",
   "execution_count": null,
   "metadata": {},
   "outputs": [],
   "source": []
  }
 ],
 "metadata": {
  "kernelspec": {
   "display_name": "Python 3",
   "language": "python",
   "name": "python3"
  },
  "language_info": {
   "codemirror_mode": {
    "name": "ipython",
    "version": 3
   },
   "file_extension": ".py",
   "mimetype": "text/x-python",
   "name": "python",
   "nbconvert_exporter": "python",
   "pygments_lexer": "ipython3",
   "version": "3.7.4"
  }
 },
 "nbformat": 4,
 "nbformat_minor": 2
}
