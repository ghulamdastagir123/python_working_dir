{
 "cells": [
  {
   "cell_type": "code",
   "execution_count": 1,
   "metadata": {},
   "outputs": [
    {
     "name": "stdout",
     "output_type": "stream",
     "text": [
      "An object-oriented programming language (OOPL) is a high-level programming language based on the object-oriented model. To perform object-oriented programming, one needs an object-oriented programming language.  Many modern programming languages are object-oriented, however some older programming languages, such as Pascal, do offer object-oriented versions. Examples of object-oriented programming languages include Java, Python and C++.\n"
     ]
    }
   ],
   "source": [
    "# Question No.1\n",
    "\n",
    "print('''An object-oriented programming language (OOPL) is a high-level programming language based on the object-oriented model. To perform object-oriented programming, one needs an object-oriented programming language.  Many modern programming languages are object-oriented, however some older programming languages, such as Pascal, do offer object-oriented versions. Examples of object-oriented programming languages include Java, Python and C++.''')"
   ]
  },
  {
   "cell_type": "code",
   "execution_count": 2,
   "metadata": {},
   "outputs": [
    {
     "name": "stdout",
     "output_type": "stream",
     "text": [
      "Benefits of Object Oriented Programming are below:\n",
      "1.\tModularity for easier troubleshooting\n",
      "2.\tReuse of code through inheritance\n",
      "3.\tFlexibility through polymorphism\n",
      "4.\tEffective problem solving\n",
      "\n"
     ]
    }
   ],
   "source": [
    "# Question No.2\n",
    "\n",
    "print('''Benefits of Object Oriented Programming are below:\n",
    "1.\tModularity for easier troubleshooting\n",
    "2.\tReuse of code through inheritance\n",
    "3.\tFlexibility through polymorphism\n",
    "4.\tEffective problem solving\n",
    "''')\n"
   ]
  },
  {
   "cell_type": "code",
   "execution_count": 11,
   "metadata": {},
   "outputs": [
    {
     "name": "stdout",
     "output_type": "stream",
     "text": [
      "FUNCION\n",
      " Function is a piece of code that is called by name. It can be passed data to operate on (i.e. the parameters) and can optionally return data (the return value). All data that is passed to a function is explicitly passed.\n",
      "Method\n",
      " Method is a piece of code that is called by a name that is associated with an object. In most respects it is identical to a function except for two key differences:\n",
      "\n",
      "1.\tA method is implicitly passed the object on which it was called.\n",
      "2.\tA method is able to operate on data that is contained within the class (remembering that an object is an instance of a class - the class is the definition, the object is an instance of that data).\n",
      "\n"
     ]
    }
   ],
   "source": [
    "# Question No.3\n",
    "\n",
    "print('FUNCION')\n",
    "\n",
    "print(''' Function is a piece of code that is called by name. It can be passed data to operate on (i.e. the parameters) and can optionally return data (the return value). All data that is passed to a function is explicitly passed.''')\n",
    "\n",
    "print('Method')\n",
    "\n",
    "print(''' Method is a piece of code that is called by a name that is associated with an object. In most respects it is identical to a function except for two key differences:\n",
    "\n",
    "1.\tA method is implicitly passed the object on which it was called.\n",
    "2.\tA method is able to operate on data that is contained within the class (remembering that an object is an instance of a class - the class is the definition, the object is an instance of that data).\n",
    "''')\n"
   ]
  },
  {
   "cell_type": "code",
   "execution_count": 17,
   "metadata": {},
   "outputs": [
    {
     "name": "stdout",
     "output_type": "stream",
     "text": [
      "CLASS\n",
      " Class is a user defined blueprint or prototype from which objects are created.  It represents the set of properties or methods that are common to all objects of one type. In general, class declarations can include these components, in order:\n",
      "Modifiers: A class can be public or has default access (Refer this for details).\n",
      "Class name: The name should begin with an initial letter (capitalized by convention).\n",
      "Superclass (if any): The name of the class’s parent (superclass), if any, preceded by the keyword extends. A class can only extend (subclass) one parent.\n",
      "Interfaces (if any): A comma-separated list of interfaces implemented by the class, if any, preceded by the keyword implements. A class can implement more than one interface.\n",
      "Body: The class body surrounded by braces, { }.\n",
      "\n",
      "\n",
      "OBJECT\n",
      "It is a basic unit of Object Oriented Programming and represents the real life entities.  A typical Java program creates many objects, which as you know, interact by invoking methods. An object consists of :\n",
      "1.\tState : It is represented by attributes of an object. It also reflects the properties of an object.\n",
      "2.\tBehavior : It is represented by methods of an object. It also reflects the response of an object with other objects.\n",
      "3.\tIdentity : It gives a unique name to an object and enables one object to interact with other objects.\n",
      "\n",
      "ATTRIBUTE\n",
      "In Object-oriented programming(OOP), classes and objects have attributes. Attributes are data stored inside a class or instance and represent the state or quality of the class or instance. In short, attributes store information about the instance.\n",
      "BEHAVIOUR\n",
      "Behavior. A class's behavior determines how an instance of that class operates; for example, how it will \"react\" if asked to do something by another class or object or if its internal state changes. Behavior is the only way objects can do anything to themselves or have anything done to them.\n"
     ]
    }
   ],
   "source": [
    "# Question No.4\n",
    "\n",
    "print('CLASS')\n",
    "\n",
    "print(''' Class is a user defined blueprint or prototype from which objects are created.  It represents the set of properties or methods that are common to all objects of one type. In general, class declarations can include these components, in order:\n",
    "Modifiers: A class can be public or has default access (Refer this for details).\n",
    "Class name: The name should begin with an initial letter (capitalized by convention).\n",
    "Superclass (if any): The name of the class’s parent (superclass), if any, preceded by the keyword extends. A class can only extend (subclass) one parent.\n",
    "Interfaces (if any): A comma-separated list of interfaces implemented by the class, if any, preceded by the keyword implements. A class can implement more than one interface.\n",
    "Body: The class body surrounded by braces, { }.\n",
    "\n",
    "''')\n",
    "\n",
    "print('OBJECT')\n",
    "\n",
    "print('''It is a basic unit of Object Oriented Programming and represents the real life entities.  A typical Java program creates many objects, which as you know, interact by invoking methods. An object consists of :\n",
    "1.\tState : It is represented by attributes of an object. It also reflects the properties of an object.\n",
    "2.\tBehavior : It is represented by methods of an object. It also reflects the response of an object with other objects.\n",
    "3.\tIdentity : It gives a unique name to an object and enables one object to interact with other objects.\n",
    "''')\n",
    "\n",
    "print('ATTRIBUTE')\n",
    "\n",
    "print('''In Object-oriented programming(OOP), classes and objects have attributes. Attributes are data stored inside a class or instance and represent the state or quality of the class or instance. In short, attributes store information about the instance.''')\n",
    "\n",
    "\n",
    "\n",
    "print('BEHAVIOUR')\n",
    "\n",
    "print('''Behavior. A class's behavior determines how an instance of that class operates; for example, how it will \"react\" if asked to do something by another class or object or if its internal state changes. Behavior is the only way objects can do anything to themselves or have anything done to them.''')"
   ]
  },
  {
   "cell_type": "code",
   "execution_count": 18,
   "metadata": {},
   "outputs": [
    {
     "name": "stdout",
     "output_type": "stream",
     "text": [
      "this car name is :  Civic\n",
      "Suzuki\n",
      " XLi\n"
     ]
    }
   ],
   "source": [
    "# Question No.5\n",
    "\n",
    "class Car:\n",
    "    def __init__(self,model,color,name,company,number):\n",
    "        self.model=model\n",
    "        self.color=color\n",
    "        self.name=name\n",
    "        self.company=company\n",
    "        self.number=number\n",
    "        \n",
    "    def print_name(self):\n",
    "        print(\"this car name is : \",self.name)\n",
    "            \n",
    "    def print_UPdatecompany(self):\n",
    "        self.company=\"Suzuki\"\n",
    "        print(self.company)\n",
    "            \n",
    "    def print_number(self):\n",
    "        print(self.number)\n",
    "            \n",
    "car1=Car('2019','Black','Civic','Honda','EX-L')\n",
    "car2=Car('2018','silver','corolla','Toyota',' XLi')\n",
    "car3=Car('2017','Red','vitz','Toyota','Vitz-2017')\n",
    "car4=Car('2016','white','City','Honda','Prosmatec 1.3 i-VTEC')\n",
    "car5=Car('2015','gray','swift','suzuki',' ZC32S')\n",
    "\n",
    "\n",
    "\n",
    "car1.print_name()\n",
    "car2.print_UPdatecompany()\n",
    "car2.print_number()"
   ]
  },
  {
   "cell_type": "code",
   "execution_count": null,
   "metadata": {},
   "outputs": [],
   "source": []
  }
 ],
 "metadata": {
  "kernelspec": {
   "display_name": "Python 3",
   "language": "python",
   "name": "python3"
  },
  "language_info": {
   "codemirror_mode": {
    "name": "ipython",
    "version": 3
   },
   "file_extension": ".py",
   "mimetype": "text/x-python",
   "name": "python",
   "nbconvert_exporter": "python",
   "pygments_lexer": "ipython3",
   "version": "3.7.4"
  }
 },
 "nbformat": 4,
 "nbformat_minor": 2
}
