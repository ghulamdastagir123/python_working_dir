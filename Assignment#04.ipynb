{
 "cells": [
  {
   "cell_type": "code",
   "execution_count": 4,
   "metadata": {},
   "outputs": [
    {
     "name": "stdout",
     "output_type": "stream",
     "text": [
      "{'first_name': 'Ghulam ', 'last_name': 'Dastagir', 'age': 30, 'city': 'Karachi'}\n",
      "{'first_name': 'Ghulam ', 'last_name': 'Dastagir', 'age': 30, 'city': 'Karachi', 'Qualification': 'IOT Certified from PIAIC'}\n",
      "{'first_name': 'Ghulam ', 'last_name': 'Dastagir', 'age': 30, 'city': 'Karachi'}\n"
     ]
    }
   ],
   "source": [
    "# Question No.1\n",
    "Data = {\"first_name\":\"Ghulam \",\"last_name\":\"Dastagir\",\"age\":30,\"city\":\"Karachi\"}\n",
    "print(Data)\n",
    "Data[\"Qualification\"] = \"IOT Certified from PIAIC\"\n",
    "print(Data)\n",
    "del Data[\"Qualification\"]\n",
    "print(Data)"
   ]
  },
  {
   "cell_type": "code",
   "execution_count": 8,
   "metadata": {},
   "outputs": [
    {
     "name": "stdout",
     "output_type": "stream",
     "text": [
      "\n",
      "Karachi is in Pakistan.\n",
      "  It has a population of about 15741000.\n",
      "  The 11Th ranked in the world.\n",
      "\n",
      "Bangalore is in India.\n",
      "  It has a population of about 13958256.\n",
      "  The 25Th  ranked in the world.\n",
      "\n",
      "Newyork is in Usa.\n",
      "  It has a population of about 8398748.\n",
      "  The 38Th ranked in the world.\n"
     ]
    }
   ],
   "source": [
    "# Question No.2\n",
    "cities = {\n",
    "    'Karachi': {\n",
    "        'country': 'Pakistan',\n",
    "        'population':15741000,\n",
    "        'ranked': '11th',\n",
    "        },\n",
    "    'Bangalore': {\n",
    "        'country': 'India',\n",
    "        'population': 13958256 ,\n",
    "        'ranked': '25th ',\n",
    "        },\n",
    "    'NewYork': {\n",
    "        'country': 'USA',\n",
    "        'population': 8398748  ,\n",
    "        'ranked': '38th',\n",
    "        }\n",
    "    }\n",
    "\n",
    "for city, city_info in cities.items():\n",
    "    country = city_info['country'].title()\n",
    "    population = city_info['population']\n",
    "    ranked = city_info['ranked'].title()\n",
    "\n",
    "    print(\"\\n\" + city.title() + \" is in \" + country + \".\")\n",
    "    print(\"  It has a population of about \" + str(population) + \".\")\n",
    "    print(\"  The \" + ranked + \" ranked in the world.\")"
   ]
  },
  {
   "cell_type": "code",
   "execution_count": 11,
   "metadata": {},
   "outputs": [
    {
     "name": "stdout",
     "output_type": "stream",
     "text": [
      "what is your age30\n",
      "your ticket is $15\n"
     ]
    }
   ],
   "source": [
    "# Question No.3\n",
    "for i in range(3):\n",
    "    age = int(input(\"what is your age\"))\n",
    "    if age <=3:\n",
    "        print(\"your ticket is free\")\n",
    "        break\n",
    "    if age >3 and age <=12:\n",
    "        print(\"your ticket is $10\")\n",
    "        break\n",
    "    if age > 12:\n",
    "        print(\"your ticket is $15\")\n",
    "        break"
   ]
  },
  {
   "cell_type": "code",
   "execution_count": 13,
   "metadata": {},
   "outputs": [
    {
     "name": "stdout",
     "output_type": "stream",
     "text": [
      "Alice in Wonderland is one of my favorite books.\n"
     ]
    }
   ],
   "source": [
    "# Question No.4\n",
    "def favorite_book(title):\n",
    "    \"\"\"Display a message about someone's favorite book.\"\"\"\n",
    "    print(title + \" is one of my favorite books.\")\n",
    "\n",
    "favorite_book('Alice in Wonderland')"
   ]
  },
  {
   "cell_type": "code",
   "execution_count": 15,
   "metadata": {},
   "outputs": [
    {
     "name": "stdout",
     "output_type": "stream",
     "text": [
      "================HINT================\n",
      "try a number between 10 and 20\n",
      "enter your guess: 4\n",
      "your guess is wrong\n",
      "============better luck next time :-)============\n",
      "enter your guess: 7\n",
      "your guess is wrong\n",
      "============better luck next time :-)============\n",
      "enter your guess: 10\n",
      "your guess is wrong\n",
      "============better luck next time :-)============\n"
     ]
    }
   ],
   "source": [
    "# Question No.5\n",
    "import random\n",
    "a=random.randint(1,30) #a is the hidden number\n",
    "print(\"================HINT================\")\n",
    "if a>= 1 and a < 10:\n",
    "    print(\"try a number between 1 and 10\")\n",
    "elif a >= 10 and a < 20:\n",
    "    print(\"try a number between 10 and 20\")\n",
    "elif a >= 20 and a < 30:\n",
    "    print(\"try a number between 20 and 30\")\n",
    "for i in range(0,3):\n",
    "    user = int(input(\"enter your guess: \"))\n",
    "    if user < 1 or user > 30:\n",
    "        print(\"choose a number between 1 and 30\")\n",
    "    else:\n",
    "        if user == a:\n",
    "            print(\"your guess is right\")\n",
    "            break\n",
    "        else:\n",
    "            print(\"your guess is wrong\")\n",
    "            print(\"============better luck next time :-)============\")\n",
    "\n"
   ]
  },
  {
   "cell_type": "code",
   "execution_count": null,
   "metadata": {},
   "outputs": [],
   "source": []
  }
 ],
 "metadata": {
  "kernelspec": {
   "display_name": "Python 3",
   "language": "python",
   "name": "python3"
  },
  "language_info": {
   "codemirror_mode": {
    "name": "ipython",
    "version": 3
   },
   "file_extension": ".py",
   "mimetype": "text/x-python",
   "name": "python",
   "nbconvert_exporter": "python",
   "pygments_lexer": "ipython3",
   "version": "3.7.4"
  }
 },
 "nbformat": 4,
 "nbformat_minor": 2
}
